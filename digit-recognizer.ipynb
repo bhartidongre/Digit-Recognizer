{
 "cells": [
  {
   "cell_type": "code",
   "execution_count": 1,
   "id": "22b0fdad",
   "metadata": {
    "_cell_guid": "b1076dfc-b9ad-4769-8c92-a6c4dae69d19",
    "_uuid": "8f2839f25d086af736a60e9eeb907d3b93b6e0e5",
    "execution": {
     "iopub.execute_input": "2025-01-24T12:34:15.593960Z",
     "iopub.status.busy": "2025-01-24T12:34:15.593577Z",
     "iopub.status.idle": "2025-01-24T12:34:16.519150Z",
     "shell.execute_reply": "2025-01-24T12:34:16.517801Z"
    },
    "papermill": {
     "duration": 0.933359,
     "end_time": "2025-01-24T12:34:16.520895",
     "exception": false,
     "start_time": "2025-01-24T12:34:15.587536",
     "status": "completed"
    },
    "tags": []
   },
   "outputs": [
    {
     "name": "stdout",
     "output_type": "stream",
     "text": [
      "/kaggle/input/digit-recognizer/sample_submission.csv\n",
      "/kaggle/input/digit-recognizer/train.csv\n",
      "/kaggle/input/digit-recognizer/test.csv\n"
     ]
    }
   ],
   "source": [
    "# This Python 3 environment comes with many helpful analytics libraries installed\n",
    "# It is defined by the kaggle/python Docker image: https://github.com/kaggle/docker-python\n",
    "# For example, here's several helpful packages to load\n",
    "\n",
    "import numpy as np # linear algebra\n",
    "import pandas as pd # data processing, CSV file I/O (e.g. pd.read_csv)\n",
    "\n",
    "# Input data files are available in the read-only \"../input/\" directory\n",
    "# For example, running this (by clicking run or pressing Shift+Enter) will list all files under the input directory\n",
    "\n",
    "import os\n",
    "for dirname, _, filenames in os.walk('/kaggle/input'):\n",
    "    for filename in filenames:\n",
    "        print(os.path.join(dirname, filename))\n",
    "\n",
    "# You can write up to 20GB to the current directory (/kaggle/working/) that gets preserved as output when you create a version using \"Save & Run All\" \n",
    "# You can also write temporary files to /kaggle/temp/, but they won't be saved outside of the current session"
   ]
  },
  {
   "cell_type": "code",
   "execution_count": 2,
   "id": "b4f96796",
   "metadata": {
    "execution": {
     "iopub.execute_input": "2025-01-24T12:34:16.531176Z",
     "iopub.status.busy": "2025-01-24T12:34:16.530647Z",
     "iopub.status.idle": "2025-01-24T12:34:27.155598Z",
     "shell.execute_reply": "2025-01-24T12:34:27.154691Z"
    },
    "papermill": {
     "duration": 10.63202,
     "end_time": "2025-01-24T12:34:27.157509",
     "exception": false,
     "start_time": "2025-01-24T12:34:16.525489",
     "status": "completed"
    },
    "tags": []
   },
   "outputs": [],
   "source": [
    "import torch\n",
    "from torch import nn\n",
    "from torch import optim\n",
    "from torch.utils.data import DataLoader, Dataset\n",
    "import torchvision\n",
    "from torchvision import transforms\n",
    "import numpy as np #For Linear Algebra\n",
    "import pandas as pd #For Data Frame Making\n",
    "import matplotlib.pyplot as plt #For Visualization And Plot Making\n",
    "from sklearn.model_selection import train_test_split #For Data Spliting "
   ]
  },
  {
   "cell_type": "code",
   "execution_count": 3,
   "id": "093041e0",
   "metadata": {
    "execution": {
     "iopub.execute_input": "2025-01-24T12:34:27.167769Z",
     "iopub.status.busy": "2025-01-24T12:34:27.167244Z",
     "iopub.status.idle": "2025-01-24T12:34:27.176280Z",
     "shell.execute_reply": "2025-01-24T12:34:27.175304Z"
    },
    "papermill": {
     "duration": 0.015609,
     "end_time": "2025-01-24T12:34:27.177660",
     "exception": false,
     "start_time": "2025-01-24T12:34:27.162051",
     "status": "completed"
    },
    "tags": []
   },
   "outputs": [
    {
     "name": "stdout",
     "output_type": "stream",
     "text": [
      "The Available Device Is cpu\n"
     ]
    }
   ],
   "source": [
    "device = torch.device(\"cuda\" if torch.cuda.is_available() else \"cpu\")\n",
    "print(f\"The Available Device Is {device}\")"
   ]
  },
  {
   "cell_type": "code",
   "execution_count": 4,
   "id": "b301453a",
   "metadata": {
    "execution": {
     "iopub.execute_input": "2025-01-24T12:34:27.187575Z",
     "iopub.status.busy": "2025-01-24T12:34:27.187232Z",
     "iopub.status.idle": "2025-01-24T12:34:27.191068Z",
     "shell.execute_reply": "2025-01-24T12:34:27.190237Z"
    },
    "papermill": {
     "duration": 0.010429,
     "end_time": "2025-01-24T12:34:27.192650",
     "exception": false,
     "start_time": "2025-01-24T12:34:27.182221",
     "status": "completed"
    },
    "tags": []
   },
   "outputs": [],
   "source": [
    "BATCH_SIZE = 64\n",
    "EPOCHS = 50\n",
    "LEARNING_RATE = 0.00001"
   ]
  },
  {
   "cell_type": "code",
   "execution_count": 5,
   "id": "f7204f69",
   "metadata": {
    "execution": {
     "iopub.execute_input": "2025-01-24T12:34:27.202349Z",
     "iopub.status.busy": "2025-01-24T12:34:27.202029Z",
     "iopub.status.idle": "2025-01-24T12:34:32.156134Z",
     "shell.execute_reply": "2025-01-24T12:34:32.155085Z"
    },
    "papermill": {
     "duration": 4.961074,
     "end_time": "2025-01-24T12:34:32.158112",
     "exception": false,
     "start_time": "2025-01-24T12:34:27.197038",
     "status": "completed"
    },
    "tags": []
   },
   "outputs": [],
   "source": [
    "train_data = pd.read_csv(\"/kaggle/input/digit-recognizer/train.csv\")\n",
    "test_data = pd.read_csv(\"/kaggle/input/digit-recognizer/test.csv\")"
   ]
  },
  {
   "cell_type": "code",
   "execution_count": 6,
   "id": "935504b3",
   "metadata": {
    "execution": {
     "iopub.execute_input": "2025-01-24T12:34:32.168736Z",
     "iopub.status.busy": "2025-01-24T12:34:32.168347Z",
     "iopub.status.idle": "2025-01-24T12:34:32.373008Z",
     "shell.execute_reply": "2025-01-24T12:34:32.371927Z"
    },
    "papermill": {
     "duration": 0.212008,
     "end_time": "2025-01-24T12:34:32.374874",
     "exception": false,
     "start_time": "2025-01-24T12:34:32.162866",
     "status": "completed"
    },
    "tags": []
   },
   "outputs": [],
   "source": [
    "X = train_data.iloc[:, 1:].values.reshape(-1, 1, 28, 28).astype(\"float32\")/255.0\n",
    "y = train_data.iloc[:, 0].values\n",
    "\n",
    "X_test_final = test_data.values.reshape(-1, 1, 28, 28).astype(\"float32\")/255.0"
   ]
  },
  {
   "cell_type": "code",
   "execution_count": 7,
   "id": "34d54f95",
   "metadata": {
    "execution": {
     "iopub.execute_input": "2025-01-24T12:34:32.384738Z",
     "iopub.status.busy": "2025-01-24T12:34:32.384401Z",
     "iopub.status.idle": "2025-01-24T12:34:32.760022Z",
     "shell.execute_reply": "2025-01-24T12:34:32.758941Z"
    },
    "papermill": {
     "duration": 0.382479,
     "end_time": "2025-01-24T12:34:32.761887",
     "exception": false,
     "start_time": "2025-01-24T12:34:32.379408",
     "status": "completed"
    },
    "tags": []
   },
   "outputs": [],
   "source": [
    "X_train, X_test, y_train, y_test = train_test_split(X, y, test_size=0.10, random_state=1234)"
   ]
  },
  {
   "cell_type": "code",
   "execution_count": 8,
   "id": "0e5f8c03",
   "metadata": {
    "execution": {
     "iopub.execute_input": "2025-01-24T12:34:32.772386Z",
     "iopub.status.busy": "2025-01-24T12:34:32.772022Z",
     "iopub.status.idle": "2025-01-24T12:34:32.791339Z",
     "shell.execute_reply": "2025-01-24T12:34:32.790509Z"
    },
    "papermill": {
     "duration": 0.026455,
     "end_time": "2025-01-24T12:34:32.793000",
     "exception": false,
     "start_time": "2025-01-24T12:34:32.766545",
     "status": "completed"
    },
    "tags": []
   },
   "outputs": [],
   "source": [
    "X_train = torch.from_numpy(X_train)\n",
    "y_train = torch.from_numpy(y_train).type(torch.LongTensor)\n",
    "\n",
    "X_test = torch.from_numpy(X_test)\n",
    "y_test = torch.from_numpy(y_test).type(torch.LongTensor)"
   ]
  },
  {
   "cell_type": "code",
   "execution_count": 9,
   "id": "5e5ab213",
   "metadata": {
    "execution": {
     "iopub.execute_input": "2025-01-24T12:34:32.803088Z",
     "iopub.status.busy": "2025-01-24T12:34:32.802743Z",
     "iopub.status.idle": "2025-01-24T12:34:32.809217Z",
     "shell.execute_reply": "2025-01-24T12:34:32.808315Z"
    },
    "papermill": {
     "duration": 0.013437,
     "end_time": "2025-01-24T12:34:32.810879",
     "exception": false,
     "start_time": "2025-01-24T12:34:32.797442",
     "status": "completed"
    },
    "tags": []
   },
   "outputs": [],
   "source": [
    "#Make Our Dataloader(The Input Of Our Model)\n",
    "\n",
    "#Pytorch Train And Test Sets\n",
    "\n",
    "train_dataset = torch.utils.data.TensorDataset(X_train, y_train)\n",
    "test_dataset = torch.utils.data.TensorDataset(X_test, y_test)\n",
    "\n",
    "#Dataloader\n",
    "\n",
    "train_loader = DataLoader(train_dataset, batch_size=BATCH_SIZE, shuffle=True)\n",
    "test_loader = DataLoader(test_dataset, batch_size=BATCH_SIZE, shuffle=False)"
   ]
  },
  {
   "cell_type": "code",
   "execution_count": 10,
   "id": "61b55bae",
   "metadata": {
    "execution": {
     "iopub.execute_input": "2025-01-24T12:34:32.820919Z",
     "iopub.status.busy": "2025-01-24T12:34:32.820551Z",
     "iopub.status.idle": "2025-01-24T12:34:33.028495Z",
     "shell.execute_reply": "2025-01-24T12:34:33.027411Z"
    },
    "papermill": {
     "duration": 0.214629,
     "end_time": "2025-01-24T12:34:33.030033",
     "exception": false,
     "start_time": "2025-01-24T12:34:32.815404",
     "status": "completed"
    },
    "tags": []
   },
   "outputs": [
    {
     "data": {
      "image/png": "[encoded data removed]",
      "text/plain": [
       "<Figure size 640x480 with 1 Axes>"
      ]
     },
     "metadata": {},
     "output_type": "display_data"
    },
    {
     "name": "stdout",
     "output_type": "stream",
     "text": [
      "torch.Size([1, 28, 28])\n"
     ]
    }
   ],
   "source": [
    "plt.imshow(X_train[1].reshape(28, 28, 1))\n",
    "plt.axis(\"off\")\n",
    "plt.title(\"Handwirtten Numbers\")\n",
    "plt.show()\n",
    "print(X_train[1].shape)"
   ]
  },
  {
   "cell_type": "code",
   "execution_count": 11,
   "id": "ca52c1fb",
   "metadata": {
    "execution": {
     "iopub.execute_input": "2025-01-24T12:34:33.040478Z",
     "iopub.status.busy": "2025-01-24T12:34:33.040094Z",
     "iopub.status.idle": "2025-01-24T12:34:33.048025Z",
     "shell.execute_reply": "2025-01-24T12:34:33.046983Z"
    },
    "papermill": {
     "duration": 0.014801,
     "end_time": "2025-01-24T12:34:33.049458",
     "exception": false,
     "start_time": "2025-01-24T12:34:33.034657",
     "status": "completed"
    },
    "tags": []
   },
   "outputs": [],
   "source": [
    "#Let's Build Our Classifier Model\n",
    "\n",
    "class CNN(nn.Module):    \n",
    "    def __init__(self):\n",
    "        super(CNN, self).__init__()\n",
    "          \n",
    "        self.features = nn.Sequential(\n",
    "            nn.Conv2d(1, 32, kernel_size=3, stride=1, padding=1),\n",
    "            nn.BatchNorm2d(32),\n",
    "            nn.ReLU(inplace=True),\n",
    "            nn.Conv2d(32, 32, kernel_size=3, stride=1, padding=1),\n",
    "            nn.BatchNorm2d(32),\n",
    "            nn.ReLU(inplace=True),\n",
    "            nn.MaxPool2d(kernel_size=2, stride=2),\n",
    "            nn.Conv2d(32, 64, kernel_size=3, padding=1),\n",
    "            nn.BatchNorm2d(64),\n",
    "            nn.ReLU(inplace=True),\n",
    "            nn.Conv2d(64, 64, kernel_size=3, padding=1),\n",
    "            nn.BatchNorm2d(64),\n",
    "            nn.ReLU(inplace=True),\n",
    "            nn.MaxPool2d(kernel_size=2, stride=2)\n",
    "        )\n",
    "          \n",
    "        self.classifier = nn.Sequential(\n",
    "            nn.Dropout(p = 0.5),\n",
    "            nn.Linear(64 * 7 * 7, 512),\n",
    "            nn.BatchNorm1d(512),\n",
    "            nn.ReLU(inplace=True),\n",
    "            nn.Dropout(p = 0.5),\n",
    "            nn.Linear(512, 512),\n",
    "            nn.BatchNorm1d(512),\n",
    "            nn.ReLU(inplace=True),\n",
    "            nn.Dropout(p = 0.5),\n",
    "            nn.Linear(512, 10),\n",
    "        )\n",
    "        \n",
    "    def forward(self, x):\n",
    "        x = self.features(x)\n",
    "        x = x.view(x.size(0), -1)\n",
    "        x = self.classifier(x)\n",
    "        \n",
    "        return x"
   ]
  },
  {
   "cell_type": "code",
   "execution_count": 12,
   "id": "6d4a848e",
   "metadata": {
    "execution": {
     "iopub.execute_input": "2025-01-24T12:34:33.059923Z",
     "iopub.status.busy": "2025-01-24T12:34:33.059543Z",
     "iopub.status.idle": "2025-01-24T12:34:33.111577Z",
     "shell.execute_reply": "2025-01-24T12:34:33.110566Z"
    },
    "papermill": {
     "duration": 0.059329,
     "end_time": "2025-01-24T12:34:33.113426",
     "exception": false,
     "start_time": "2025-01-24T12:34:33.054097",
     "status": "completed"
    },
    "tags": []
   },
   "outputs": [],
   "source": [
    "model = CNN().to(device)\n",
    "criterion = nn.CrossEntropyLoss()\n",
    "optimizer = optim.Adam(model.parameters(), lr=LEARNING_RATE)"
   ]
  },
  {
   "cell_type": "code",
   "execution_count": 13,
   "id": "ee986c24",
   "metadata": {
    "execution": {
     "iopub.execute_input": "2025-01-24T12:34:33.123806Z",
     "iopub.status.busy": "2025-01-24T12:34:33.123430Z",
     "iopub.status.idle": "2025-01-24T12:34:33.129303Z",
     "shell.execute_reply": "2025-01-24T12:34:33.128343Z"
    },
    "papermill": {
     "duration": 0.012941,
     "end_time": "2025-01-24T12:34:33.131004",
     "exception": false,
     "start_time": "2025-01-24T12:34:33.118063",
     "status": "completed"
    },
    "tags": []
   },
   "outputs": [],
   "source": [
    "#The Train Function\n",
    "\n",
    "def train(epoch):\n",
    "    model.train()\n",
    "    optimizer.step()\n",
    "    for batch_idx, (data, target) in enumerate(train_loader):        \n",
    "        if torch.cuda.is_available():\n",
    "            data = data.cuda()\n",
    "            target = target.cuda()\n",
    "        \n",
    "        optimizer.zero_grad()\n",
    "        output = model(data)\n",
    "        loss = criterion(output, target)\n",
    "        \n",
    "        loss.backward()\n",
    "        optimizer.step()\n",
    "        \n",
    "        if (batch_idx + 1)% 100 == 0:\n",
    "            print('Train Epoch: {} [{}/{} ({:.0f}%)]\\tLoss: {:.6f}'.format(\n",
    "                epoch, (batch_idx + 1) * len(data), len(train_loader.dataset),\n",
    "                100. * (batch_idx + 1) / len(train_loader), loss.item()))"
   ]
  },
  {
   "cell_type": "code",
   "execution_count": 14,
   "id": "567b97fa",
   "metadata": {
    "execution": {
     "iopub.execute_input": "2025-01-24T12:34:33.141814Z",
     "iopub.status.busy": "2025-01-24T12:34:33.141411Z",
     "iopub.status.idle": "2025-01-24T12:34:33.147512Z",
     "shell.execute_reply": "2025-01-24T12:34:33.146487Z"
    },
    "papermill": {
     "duration": 0.013329,
     "end_time": "2025-01-24T12:34:33.149109",
     "exception": false,
     "start_time": "2025-01-24T12:34:33.135780",
     "status": "completed"
    },
    "tags": []
   },
   "outputs": [],
   "source": [
    "#The Evaluate Step\n",
    "\n",
    "def evaluate(data_loader):\n",
    "    model.eval()\n",
    "    loss = 0\n",
    "    correct = 0\n",
    "    \n",
    "    for data, target in data_loader:\n",
    "        if torch.cuda.is_available():\n",
    "            data = data.cuda()\n",
    "            target = target.cuda()\n",
    "            \n",
    "        output = model(data)\n",
    "        \n",
    "        loss += criterion(output, target)\n",
    "\n",
    "        pred = output.data.max(1, keepdim=True)[1]\n",
    "        correct += pred.eq(target.data.view_as(pred)).cpu().sum()\n",
    "        \n",
    "    loss /= len(data_loader.dataset)\n",
    "        \n",
    "    print('\\nAverage loss: {:.4f}, Accuracy: {}/{} ({:.3f}%)\\n'.format(\n",
    "        loss, correct, len(data_loader.dataset),\n",
    "        100. * correct / len(data_loader.dataset)))"
   ]
  },
  {
   "cell_type": "code",
   "execution_count": 15,
   "id": "b2ea49ae",
   "metadata": {
    "execution": {
     "iopub.execute_input": "2025-01-24T12:34:33.159787Z",
     "iopub.status.busy": "2025-01-24T12:34:33.159393Z",
     "iopub.status.idle": "2025-01-24T13:31:05.125355Z",
     "shell.execute_reply": "2025-01-24T13:31:05.124297Z"
    },
    "papermill": {
     "duration": 3391.991452,
     "end_time": "2025-01-24T13:31:05.145299",
     "exception": false,
     "start_time": "2025-01-24T12:34:33.153847",
     "status": "completed"
    },
    "tags": []
   },
   "outputs": [
    {
     "name": "stdout",
     "output_type": "stream",
     "text": [
      "Train Epoch: 0 [6400/37800 (17%)]\tLoss: 2.200952\n",
      "Train Epoch: 0 [12800/37800 (34%)]\tLoss: 1.937918\n",
      "Train Epoch: 0 [19200/37800 (51%)]\tLoss: 1.772126\n",
      "Train Epoch: 0 [25600/37800 (68%)]\tLoss: 1.649909\n",
      "Train Epoch: 0 [32000/37800 (85%)]\tLoss: 1.372583\n",
      "\n",
      "Average loss: 0.0182, Accuracy: 3407/4200 (81.119%)\n",
      "\n",
      "Train Epoch: 1 [6400/37800 (17%)]\tLoss: 1.173935\n",
      "Train Epoch: 1 [12800/37800 (34%)]\tLoss: 0.981009\n",
      "Train Epoch: 1 [19200/37800 (51%)]\tLoss: 1.047101\n",
      "Train Epoch: 1 [25600/37800 (68%)]\tLoss: 0.846099\n",
      "Train Epoch: 1 [32000/37800 (85%)]\tLoss: 0.837150\n",
      "\n",
      "Average loss: 0.0100, Accuracy: 3740/4200 (89.048%)\n",
      "\n",
      "Train Epoch: 2 [6400/37800 (17%)]\tLoss: 0.861128\n",
      "Train Epoch: 2 [12800/37800 (34%)]\tLoss: 0.738103\n",
      "Train Epoch: 2 [19200/37800 (51%)]\tLoss: 0.673383\n",
      "Train Epoch: 2 [25600/37800 (68%)]\tLoss: 0.593615\n",
      "Train Epoch: 2 [32000/37800 (85%)]\tLoss: 0.628873\n",
      "\n",
      "Average loss: 0.0063, Accuracy: 3880/4200 (92.381%)\n",
      "\n",
      "Train Epoch: 3 [6400/37800 (17%)]\tLoss: 0.471195\n",
      "Train Epoch: 3 [12800/37800 (34%)]\tLoss: 0.418118\n",
      "Train Epoch: 3 [19200/37800 (51%)]\tLoss: 0.415936\n",
      "Train Epoch: 3 [25600/37800 (68%)]\tLoss: 0.506910\n",
      "Train Epoch: 3 [32000/37800 (85%)]\tLoss: 0.490750\n",
      "\n",
      "Average loss: 0.0042, Accuracy: 3973/4200 (94.595%)\n",
      "\n",
      "Train Epoch: 4 [6400/37800 (17%)]\tLoss: 0.480013\n",
      "Train Epoch: 4 [12800/37800 (34%)]\tLoss: 0.377769\n",
      "Train Epoch: 4 [19200/37800 (51%)]\tLoss: 0.357743\n",
      "Train Epoch: 4 [25600/37800 (68%)]\tLoss: 0.338719\n",
      "Train Epoch: 4 [32000/37800 (85%)]\tLoss: 0.302846\n",
      "\n",
      "Average loss: 0.0031, Accuracy: 4019/4200 (95.690%)\n",
      "\n",
      "Train Epoch: 5 [6400/37800 (17%)]\tLoss: 0.312259\n",
      "Train Epoch: 5 [12800/37800 (34%)]\tLoss: 0.295437\n",
      "Train Epoch: 5 [19200/37800 (51%)]\tLoss: 0.172593\n",
      "Train Epoch: 5 [25600/37800 (68%)]\tLoss: 0.221991\n",
      "Train Epoch: 5 [32000/37800 (85%)]\tLoss: 0.271169\n",
      "\n",
      "Average loss: 0.0024, Accuracy: 4041/4200 (96.214%)\n",
      "\n",
      "Train Epoch: 6 [6400/37800 (17%)]\tLoss: 0.190800\n",
      "Train Epoch: 6 [12800/37800 (34%)]\tLoss: 0.335869\n",
      "Train Epoch: 6 [19200/37800 (51%)]\tLoss: 0.191239\n",
      "Train Epoch: 6 [25600/37800 (68%)]\tLoss: 0.222186\n",
      "Train Epoch: 6 [32000/37800 (85%)]\tLoss: 0.245123\n",
      "\n",
      "Average loss: 0.0019, Accuracy: 4068/4200 (96.857%)\n",
      "\n",
      "Train Epoch: 7 [6400/37800 (17%)]\tLoss: 0.191545\n",
      "Train Epoch: 7 [12800/37800 (34%)]\tLoss: 0.162761\n",
      "Train Epoch: 7 [19200/37800 (51%)]\tLoss: 0.239772\n",
      "Train Epoch: 7 [25600/37800 (68%)]\tLoss: 0.110575\n",
      "Train Epoch: 7 [32000/37800 (85%)]\tLoss: 0.281253\n",
      "\n",
      "Average loss: 0.0017, Accuracy: 4091/4200 (97.405%)\n",
      "\n",
      "Train Epoch: 8 [6400/37800 (17%)]\tLoss: 0.122911\n",
      "Train Epoch: 8 [12800/37800 (34%)]\tLoss: 0.227367\n",
      "Train Epoch: 8 [19200/37800 (51%)]\tLoss: 0.164556\n",
      "Train Epoch: 8 [25600/37800 (68%)]\tLoss: 0.149763\n",
      "Train Epoch: 8 [32000/37800 (85%)]\tLoss: 0.169194\n",
      "\n",
      "Average loss: 0.0014, Accuracy: 4096/4200 (97.524%)\n",
      "\n",
      "Train Epoch: 9 [6400/37800 (17%)]\tLoss: 0.224574\n",
      "Train Epoch: 9 [12800/37800 (34%)]\tLoss: 0.166310\n",
      "Train Epoch: 9 [19200/37800 (51%)]\tLoss: 0.115102\n",
      "Train Epoch: 9 [25600/37800 (68%)]\tLoss: 0.110812\n",
      "Train Epoch: 9 [32000/37800 (85%)]\tLoss: 0.198454\n",
      "\n",
      "Average loss: 0.0012, Accuracy: 4110/4200 (97.857%)\n",
      "\n",
      "Train Epoch: 10 [6400/37800 (17%)]\tLoss: 0.080143\n",
      "Train Epoch: 10 [12800/37800 (34%)]\tLoss: 0.169138\n",
      "Train Epoch: 10 [19200/37800 (51%)]\tLoss: 0.086217\n",
      "Train Epoch: 10 [25600/37800 (68%)]\tLoss: 0.187982\n",
      "Train Epoch: 10 [32000/37800 (85%)]\tLoss: 0.086200\n",
      "\n",
      "Average loss: 0.0011, Accuracy: 4117/4200 (98.024%)\n",
      "\n",
      "Train Epoch: 11 [6400/37800 (17%)]\tLoss: 0.102574\n",
      "Train Epoch: 11 [12800/37800 (34%)]\tLoss: 0.095240\n",
      "Train Epoch: 11 [19200/37800 (51%)]\tLoss: 0.096429\n",
      "Train Epoch: 11 [25600/37800 (68%)]\tLoss: 0.152972\n",
      "Train Epoch: 11 [32000/37800 (85%)]\tLoss: 0.059729\n",
      "\n",
      "Average loss: 0.0010, Accuracy: 4121/4200 (98.119%)\n",
      "\n",
      "Train Epoch: 12 [6400/37800 (17%)]\tLoss: 0.076818\n",
      "Train Epoch: 12 [12800/37800 (34%)]\tLoss: 0.110161\n",
      "Train Epoch: 12 [19200/37800 (51%)]\tLoss: 0.149938\n",
      "Train Epoch: 12 [25600/37800 (68%)]\tLoss: 0.195585\n",
      "Train Epoch: 12 [32000/37800 (85%)]\tLoss: 0.132191\n",
      "\n",
      "Average loss: 0.0009, Accuracy: 4133/4200 (98.405%)\n",
      "\n",
      "Train Epoch: 13 [6400/37800 (17%)]\tLoss: 0.078253\n",
      "Train Epoch: 13 [12800/37800 (34%)]\tLoss: 0.056475\n",
      "Train Epoch: 13 [19200/37800 (51%)]\tLoss: 0.142796\n",
      "Train Epoch: 13 [25600/37800 (68%)]\tLoss: 0.052175\n",
      "Train Epoch: 13 [32000/37800 (85%)]\tLoss: 0.142247\n",
      "\n",
      "Average loss: 0.0009, Accuracy: 4130/4200 (98.333%)\n",
      "\n",
      "Train Epoch: 14 [6400/37800 (17%)]\tLoss: 0.098554\n",
      "Train Epoch: 14 [12800/37800 (34%)]\tLoss: 0.036532\n",
      "Train Epoch: 14 [19200/37800 (51%)]\tLoss: 0.041527\n",
      "Train Epoch: 14 [25600/37800 (68%)]\tLoss: 0.083543\n",
      "Train Epoch: 14 [32000/37800 (85%)]\tLoss: 0.119521\n",
      "\n",
      "Average loss: 0.0008, Accuracy: 4136/4200 (98.476%)\n",
      "\n",
      "Train Epoch: 15 [6400/37800 (17%)]\tLoss: 0.135497\n",
      "Train Epoch: 15 [12800/37800 (34%)]\tLoss: 0.126469\n",
      "Train Epoch: 15 [19200/37800 (51%)]\tLoss: 0.113442\n",
      "Train Epoch: 15 [25600/37800 (68%)]\tLoss: 0.168468\n",
      "Train Epoch: 15 [32000/37800 (85%)]\tLoss: 0.068789\n",
      "\n",
      "Average loss: 0.0008, Accuracy: 4141/4200 (98.595%)\n",
      "\n",
      "Train Epoch: 16 [6400/37800 (17%)]\tLoss: 0.034333\n",
      "Train Epoch: 16 [12800/37800 (34%)]\tLoss: 0.077248\n",
      "Train Epoch: 16 [19200/37800 (51%)]\tLoss: 0.069225\n",
      "Train Epoch: 16 [25600/37800 (68%)]\tLoss: 0.100663\n",
      "Train Epoch: 16 [32000/37800 (85%)]\tLoss: 0.023260\n",
      "\n",
      "Average loss: 0.0007, Accuracy: 4145/4200 (98.690%)\n",
      "\n",
      "Train Epoch: 17 [6400/37800 (17%)]\tLoss: 0.068407\n",
      "Train Epoch: 17 [12800/37800 (34%)]\tLoss: 0.104378\n",
      "Train Epoch: 17 [19200/37800 (51%)]\tLoss: 0.047412\n",
      "Train Epoch: 17 [25600/37800 (68%)]\tLoss: 0.140052\n",
      "Train Epoch: 17 [32000/37800 (85%)]\tLoss: 0.108703\n",
      "\n",
      "Average loss: 0.0007, Accuracy: 4144/4200 (98.667%)\n",
      "\n",
      "Train Epoch: 18 [6400/37800 (17%)]\tLoss: 0.022391\n",
      "Train Epoch: 18 [12800/37800 (34%)]\tLoss: 0.037047\n",
      "Train Epoch: 18 [19200/37800 (51%)]\tLoss: 0.030905\n",
      "Train Epoch: 18 [25600/37800 (68%)]\tLoss: 0.038861\n",
      "Train Epoch: 18 [32000/37800 (85%)]\tLoss: 0.054632\n",
      "\n",
      "Average loss: 0.0006, Accuracy: 4148/4200 (98.762%)\n",
      "\n",
      "Train Epoch: 19 [6400/37800 (17%)]\tLoss: 0.026982\n",
      "Train Epoch: 19 [12800/37800 (34%)]\tLoss: 0.025874\n",
      "Train Epoch: 19 [19200/37800 (51%)]\tLoss: 0.159763\n",
      "Train Epoch: 19 [25600/37800 (68%)]\tLoss: 0.134138\n",
      "Train Epoch: 19 [32000/37800 (85%)]\tLoss: 0.023555\n",
      "\n",
      "Average loss: 0.0006, Accuracy: 4151/4200 (98.833%)\n",
      "\n",
      "Train Epoch: 20 [6400/37800 (17%)]\tLoss: 0.087866\n",
      "Train Epoch: 20 [12800/37800 (34%)]\tLoss: 0.034140\n",
      "Train Epoch: 20 [19200/37800 (51%)]\tLoss: 0.081140\n",
      "Train Epoch: 20 [25600/37800 (68%)]\tLoss: 0.067254\n",
      "Train Epoch: 20 [32000/37800 (85%)]\tLoss: 0.138808\n",
      "\n",
      "Average loss: 0.0006, Accuracy: 4147/4200 (98.738%)\n",
      "\n",
      "Train Epoch: 21 [6400/37800 (17%)]\tLoss: 0.091440\n",
      "Train Epoch: 21 [12800/37800 (34%)]\tLoss: 0.064417\n",
      "Train Epoch: 21 [19200/37800 (51%)]\tLoss: 0.062757\n",
      "Train Epoch: 21 [25600/37800 (68%)]\tLoss: 0.146092\n",
      "Train Epoch: 21 [32000/37800 (85%)]\tLoss: 0.098661\n",
      "\n",
      "Average loss: 0.0006, Accuracy: 4149/4200 (98.786%)\n",
      "\n",
      "Train Epoch: 22 [6400/37800 (17%)]\tLoss: 0.086418\n",
      "Train Epoch: 22 [12800/37800 (34%)]\tLoss: 0.062329\n",
      "Train Epoch: 22 [19200/37800 (51%)]\tLoss: 0.078617\n",
      "Train Epoch: 22 [25600/37800 (68%)]\tLoss: 0.092880\n",
      "Train Epoch: 22 [32000/37800 (85%)]\tLoss: 0.116639\n",
      "\n",
      "Average loss: 0.0006, Accuracy: 4151/4200 (98.833%)\n",
      "\n",
      "Train Epoch: 23 [6400/37800 (17%)]\tLoss: 0.009947\n",
      "Train Epoch: 23 [12800/37800 (34%)]\tLoss: 0.141096\n",
      "Train Epoch: 23 [19200/37800 (51%)]\tLoss: 0.094428\n",
      "Train Epoch: 23 [25600/37800 (68%)]\tLoss: 0.011375\n",
      "Train Epoch: 23 [32000/37800 (85%)]\tLoss: 0.026106\n",
      "\n",
      "Average loss: 0.0005, Accuracy: 4158/4200 (99.000%)\n",
      "\n",
      "Train Epoch: 24 [6400/37800 (17%)]\tLoss: 0.025199\n",
      "Train Epoch: 24 [12800/37800 (34%)]\tLoss: 0.083107\n",
      "Train Epoch: 24 [19200/37800 (51%)]\tLoss: 0.051945\n",
      "Train Epoch: 24 [25600/37800 (68%)]\tLoss: 0.034081\n",
      "Train Epoch: 24 [32000/37800 (85%)]\tLoss: 0.011242\n",
      "\n",
      "Average loss: 0.0005, Accuracy: 4156/4200 (98.952%)\n",
      "\n",
      "Train Epoch: 25 [6400/37800 (17%)]\tLoss: 0.006916\n",
      "Train Epoch: 25 [12800/37800 (34%)]\tLoss: 0.015199\n",
      "Train Epoch: 25 [19200/37800 (51%)]\tLoss: 0.029323\n",
      "Train Epoch: 25 [25600/37800 (68%)]\tLoss: 0.018050\n",
      "Train Epoch: 25 [32000/37800 (85%)]\tLoss: 0.051881\n",
      "\n",
      "Average loss: 0.0005, Accuracy: 4160/4200 (99.048%)\n",
      "\n",
      "Train Epoch: 26 [6400/37800 (17%)]\tLoss: 0.019457\n",
      "Train Epoch: 26 [12800/37800 (34%)]\tLoss: 0.075302\n",
      "Train Epoch: 26 [19200/37800 (51%)]\tLoss: 0.181802\n",
      "Train Epoch: 26 [25600/37800 (68%)]\tLoss: 0.047520\n",
      "Train Epoch: 26 [32000/37800 (85%)]\tLoss: 0.010500\n",
      "\n",
      "Average loss: 0.0005, Accuracy: 4156/4200 (98.952%)\n",
      "\n",
      "Train Epoch: 27 [6400/37800 (17%)]\tLoss: 0.005599\n",
      "Train Epoch: 27 [12800/37800 (34%)]\tLoss: 0.065691\n",
      "Train Epoch: 27 [19200/37800 (51%)]\tLoss: 0.013762\n",
      "Train Epoch: 27 [25600/37800 (68%)]\tLoss: 0.071879\n",
      "Train Epoch: 27 [32000/37800 (85%)]\tLoss: 0.025194\n",
      "\n",
      "Average loss: 0.0005, Accuracy: 4161/4200 (99.071%)\n",
      "\n",
      "Train Epoch: 28 [6400/37800 (17%)]\tLoss: 0.092159\n",
      "Train Epoch: 28 [12800/37800 (34%)]\tLoss: 0.035625\n",
      "Train Epoch: 28 [19200/37800 (51%)]\tLoss: 0.120516\n",
      "Train Epoch: 28 [25600/37800 (68%)]\tLoss: 0.197089\n",
      "Train Epoch: 28 [32000/37800 (85%)]\tLoss: 0.063137\n",
      "\n",
      "Average loss: 0.0005, Accuracy: 4162/4200 (99.095%)\n",
      "\n",
      "Train Epoch: 29 [6400/37800 (17%)]\tLoss: 0.084758\n",
      "Train Epoch: 29 [12800/37800 (34%)]\tLoss: 0.059465\n",
      "Train Epoch: 29 [19200/37800 (51%)]\tLoss: 0.032691\n",
      "Train Epoch: 29 [25600/37800 (68%)]\tLoss: 0.093030\n",
      "Train Epoch: 29 [32000/37800 (85%)]\tLoss: 0.079598\n",
      "\n",
      "Average loss: 0.0005, Accuracy: 4163/4200 (99.119%)\n",
      "\n",
      "Train Epoch: 30 [6400/37800 (17%)]\tLoss: 0.085860\n",
      "Train Epoch: 30 [12800/37800 (34%)]\tLoss: 0.023218\n",
      "Train Epoch: 30 [19200/37800 (51%)]\tLoss: 0.092687\n",
      "Train Epoch: 30 [25600/37800 (68%)]\tLoss: 0.059366\n",
      "Train Epoch: 30 [32000/37800 (85%)]\tLoss: 0.047440\n",
      "\n",
      "Average loss: 0.0005, Accuracy: 4163/4200 (99.119%)\n",
      "\n",
      "Train Epoch: 31 [6400/37800 (17%)]\tLoss: 0.056170\n",
      "Train Epoch: 31 [12800/37800 (34%)]\tLoss: 0.052487\n",
      "Train Epoch: 31 [19200/37800 (51%)]\tLoss: 0.049208\n",
      "Train Epoch: 31 [25600/37800 (68%)]\tLoss: 0.130705\n",
      "Train Epoch: 31 [32000/37800 (85%)]\tLoss: 0.056919\n",
      "\n",
      "Average loss: 0.0005, Accuracy: 4157/4200 (98.976%)\n",
      "\n",
      "Train Epoch: 32 [6400/37800 (17%)]\tLoss: 0.026300\n",
      "Train Epoch: 32 [12800/37800 (34%)]\tLoss: 0.014783\n",
      "Train Epoch: 32 [19200/37800 (51%)]\tLoss: 0.015056\n",
      "Train Epoch: 32 [25600/37800 (68%)]\tLoss: 0.026223\n",
      "Train Epoch: 32 [32000/37800 (85%)]\tLoss: 0.002767\n",
      "\n",
      "Average loss: 0.0005, Accuracy: 4158/4200 (99.000%)\n",
      "\n",
      "Train Epoch: 33 [6400/37800 (17%)]\tLoss: 0.027841\n",
      "Train Epoch: 33 [12800/37800 (34%)]\tLoss: 0.008674\n",
      "Train Epoch: 33 [19200/37800 (51%)]\tLoss: 0.016377\n",
      "Train Epoch: 33 [25600/37800 (68%)]\tLoss: 0.015115\n",
      "Train Epoch: 33 [32000/37800 (85%)]\tLoss: 0.017272\n",
      "\n",
      "Average loss: 0.0004, Accuracy: 4164/4200 (99.143%)\n",
      "\n",
      "Train Epoch: 34 [6400/37800 (17%)]\tLoss: 0.099640\n",
      "Train Epoch: 34 [12800/37800 (34%)]\tLoss: 0.120276\n",
      "Train Epoch: 34 [19200/37800 (51%)]\tLoss: 0.039011\n",
      "Train Epoch: 34 [25600/37800 (68%)]\tLoss: 0.070935\n",
      "Train Epoch: 34 [32000/37800 (85%)]\tLoss: 0.123946\n",
      "\n",
      "Average loss: 0.0004, Accuracy: 4164/4200 (99.143%)\n",
      "\n",
      "Train Epoch: 35 [6400/37800 (17%)]\tLoss: 0.163319\n",
      "Train Epoch: 35 [12800/37800 (34%)]\tLoss: 0.043548\n",
      "Train Epoch: 35 [19200/37800 (51%)]\tLoss: 0.004871\n",
      "Train Epoch: 35 [25600/37800 (68%)]\tLoss: 0.019465\n",
      "Train Epoch: 35 [32000/37800 (85%)]\tLoss: 0.034142\n",
      "\n",
      "Average loss: 0.0004, Accuracy: 4163/4200 (99.119%)\n",
      "\n",
      "Train Epoch: 36 [6400/37800 (17%)]\tLoss: 0.068610\n",
      "Train Epoch: 36 [12800/37800 (34%)]\tLoss: 0.030174\n",
      "Train Epoch: 36 [19200/37800 (51%)]\tLoss: 0.052852\n",
      "Train Epoch: 36 [25600/37800 (68%)]\tLoss: 0.034960\n",
      "Train Epoch: 36 [32000/37800 (85%)]\tLoss: 0.096559\n",
      "\n",
      "Average loss: 0.0005, Accuracy: 4161/4200 (99.071%)\n",
      "\n",
      "Train Epoch: 37 [6400/37800 (17%)]\tLoss: 0.020215\n",
      "Train Epoch: 37 [12800/37800 (34%)]\tLoss: 0.015240\n",
      "Train Epoch: 37 [19200/37800 (51%)]\tLoss: 0.024061\n",
      "Train Epoch: 37 [25600/37800 (68%)]\tLoss: 0.048954\n",
      "Train Epoch: 37 [32000/37800 (85%)]\tLoss: 0.025402\n",
      "\n",
      "Average loss: 0.0004, Accuracy: 4163/4200 (99.119%)\n",
      "\n",
      "Train Epoch: 38 [6400/37800 (17%)]\tLoss: 0.113657\n",
      "Train Epoch: 38 [12800/37800 (34%)]\tLoss: 0.018015\n",
      "Train Epoch: 38 [19200/37800 (51%)]\tLoss: 0.025052\n",
      "Train Epoch: 38 [25600/37800 (68%)]\tLoss: 0.033197\n",
      "Train Epoch: 38 [32000/37800 (85%)]\tLoss: 0.023929\n",
      "\n",
      "Average loss: 0.0004, Accuracy: 4163/4200 (99.119%)\n",
      "\n",
      "Train Epoch: 39 [6400/37800 (17%)]\tLoss: 0.010102\n",
      "Train Epoch: 39 [12800/37800 (34%)]\tLoss: 0.025394\n",
      "Train Epoch: 39 [19200/37800 (51%)]\tLoss: 0.013440\n",
      "Train Epoch: 39 [25600/37800 (68%)]\tLoss: 0.053264\n",
      "Train Epoch: 39 [32000/37800 (85%)]\tLoss: 0.017876\n",
      "\n",
      "Average loss: 0.0004, Accuracy: 4164/4200 (99.143%)\n",
      "\n",
      "Train Epoch: 40 [6400/37800 (17%)]\tLoss: 0.066392\n",
      "Train Epoch: 40 [12800/37800 (34%)]\tLoss: 0.006039\n",
      "Train Epoch: 40 [19200/37800 (51%)]\tLoss: 0.031732\n",
      "Train Epoch: 40 [25600/37800 (68%)]\tLoss: 0.017856\n",
      "Train Epoch: 40 [32000/37800 (85%)]\tLoss: 0.015696\n",
      "\n",
      "Average loss: 0.0004, Accuracy: 4164/4200 (99.143%)\n",
      "\n",
      "Train Epoch: 41 [6400/37800 (17%)]\tLoss: 0.020540\n",
      "Train Epoch: 41 [12800/37800 (34%)]\tLoss: 0.081719\n",
      "Train Epoch: 41 [19200/37800 (51%)]\tLoss: 0.023343\n",
      "Train Epoch: 41 [25600/37800 (68%)]\tLoss: 0.048018\n",
      "Train Epoch: 41 [32000/37800 (85%)]\tLoss: 0.009839\n",
      "\n",
      "Average loss: 0.0004, Accuracy: 4165/4200 (99.167%)\n",
      "\n",
      "Train Epoch: 42 [6400/37800 (17%)]\tLoss: 0.019653\n",
      "Train Epoch: 42 [12800/37800 (34%)]\tLoss: 0.065320\n",
      "Train Epoch: 42 [19200/37800 (51%)]\tLoss: 0.046552\n",
      "Train Epoch: 42 [25600/37800 (68%)]\tLoss: 0.030538\n",
      "Train Epoch: 42 [32000/37800 (85%)]\tLoss: 0.017186\n",
      "\n",
      "Average loss: 0.0004, Accuracy: 4166/4200 (99.190%)\n",
      "\n",
      "Train Epoch: 43 [6400/37800 (17%)]\tLoss: 0.016751\n",
      "Train Epoch: 43 [12800/37800 (34%)]\tLoss: 0.016723\n",
      "Train Epoch: 43 [19200/37800 (51%)]\tLoss: 0.033000\n",
      "Train Epoch: 43 [25600/37800 (68%)]\tLoss: 0.060200\n",
      "Train Epoch: 43 [32000/37800 (85%)]\tLoss: 0.013390\n",
      "\n",
      "Average loss: 0.0004, Accuracy: 4169/4200 (99.262%)\n",
      "\n",
      "Train Epoch: 44 [6400/37800 (17%)]\tLoss: 0.017918\n",
      "Train Epoch: 44 [12800/37800 (34%)]\tLoss: 0.008435\n",
      "Train Epoch: 44 [19200/37800 (51%)]\tLoss: 0.013709\n",
      "Train Epoch: 44 [25600/37800 (68%)]\tLoss: 0.035800\n",
      "Train Epoch: 44 [32000/37800 (85%)]\tLoss: 0.059290\n",
      "\n",
      "Average loss: 0.0004, Accuracy: 4169/4200 (99.262%)\n",
      "\n",
      "Train Epoch: 45 [6400/37800 (17%)]\tLoss: 0.006176\n",
      "Train Epoch: 45 [12800/37800 (34%)]\tLoss: 0.130660\n",
      "Train Epoch: 45 [19200/37800 (51%)]\tLoss: 0.011778\n",
      "Train Epoch: 45 [25600/37800 (68%)]\tLoss: 0.018134\n",
      "Train Epoch: 45 [32000/37800 (85%)]\tLoss: 0.004606\n",
      "\n",
      "Average loss: 0.0004, Accuracy: 4170/4200 (99.286%)\n",
      "\n",
      "Train Epoch: 46 [6400/37800 (17%)]\tLoss: 0.045468\n",
      "Train Epoch: 46 [12800/37800 (34%)]\tLoss: 0.060348\n",
      "Train Epoch: 46 [19200/37800 (51%)]\tLoss: 0.041921\n",
      "Train Epoch: 46 [25600/37800 (68%)]\tLoss: 0.025838\n",
      "Train Epoch: 46 [32000/37800 (85%)]\tLoss: 0.058849\n",
      "\n",
      "Average loss: 0.0004, Accuracy: 4163/4200 (99.119%)\n",
      "\n",
      "Train Epoch: 47 [6400/37800 (17%)]\tLoss: 0.013164\n",
      "Train Epoch: 47 [12800/37800 (34%)]\tLoss: 0.031999\n",
      "Train Epoch: 47 [19200/37800 (51%)]\tLoss: 0.061328\n",
      "Train Epoch: 47 [25600/37800 (68%)]\tLoss: 0.093442\n",
      "Train Epoch: 47 [32000/37800 (85%)]\tLoss: 0.069514\n",
      "\n",
      "Average loss: 0.0004, Accuracy: 4166/4200 (99.190%)\n",
      "\n",
      "Train Epoch: 48 [6400/37800 (17%)]\tLoss: 0.023626\n",
      "Train Epoch: 48 [12800/37800 (34%)]\tLoss: 0.035414\n",
      "Train Epoch: 48 [19200/37800 (51%)]\tLoss: 0.008178\n",
      "Train Epoch: 48 [25600/37800 (68%)]\tLoss: 0.009907\n",
      "Train Epoch: 48 [32000/37800 (85%)]\tLoss: 0.009727\n",
      "\n",
      "Average loss: 0.0004, Accuracy: 4168/4200 (99.238%)\n",
      "\n",
      "Train Epoch: 49 [6400/37800 (17%)]\tLoss: 0.015302\n",
      "Train Epoch: 49 [12800/37800 (34%)]\tLoss: 0.012619\n",
      "Train Epoch: 49 [19200/37800 (51%)]\tLoss: 0.059343\n",
      "Train Epoch: 49 [25600/37800 (68%)]\tLoss: 0.004525\n",
      "Train Epoch: 49 [32000/37800 (85%)]\tLoss: 0.029901\n",
      "\n",
      "Average loss: 0.0004, Accuracy: 4167/4200 (99.214%)\n",
      "\n"
     ]
    }
   ],
   "source": [
    "for epoch in range(EPOCHS):\n",
    "    train(epoch)\n",
    "    evaluate(test_loader)"
   ]
  },
  {
   "cell_type": "code",
   "execution_count": 16,
   "id": "57277838",
   "metadata": {
    "execution": {
     "iopub.execute_input": "2025-01-24T13:31:05.185783Z",
     "iopub.status.busy": "2025-01-24T13:31:05.185411Z",
     "iopub.status.idle": "2025-01-24T13:31:05.215529Z",
     "shell.execute_reply": "2025-01-24T13:31:05.214530Z"
    },
    "papermill": {
     "duration": 0.052606,
     "end_time": "2025-01-24T13:31:05.217241",
     "exception": false,
     "start_time": "2025-01-24T13:31:05.164635",
     "status": "completed"
    },
    "tags": []
   },
   "outputs": [],
   "source": [
    "#Make Our Predictions On Test Data\n",
    "\n",
    "test_tn = torch.from_numpy(X_test_final)\n",
    "fake_labels = np.zeros(X_test_final.shape)\n",
    "fake_labels = torch.from_numpy(fake_labels)\n",
    "\n",
    "#Test And Train Set\n",
    "\n",
    "submission_tn_data = torch.utils.data.TensorDataset(test_tn, fake_labels)\n",
    "\n",
    "#Make Dataloader\n",
    "\n",
    "submission_loader = torch.utils.data.DataLoader(submission_tn_data, batch_size = BATCH_SIZE, shuffle = False)"
   ]
  },
  {
   "cell_type": "code",
   "execution_count": 17,
   "id": "276b0248",
   "metadata": {
    "execution": {
     "iopub.execute_input": "2025-01-24T13:31:05.257330Z",
     "iopub.status.busy": "2025-01-24T13:31:05.256998Z",
     "iopub.status.idle": "2025-01-24T13:31:20.388565Z",
     "shell.execute_reply": "2025-01-24T13:31:20.387656Z"
    },
    "papermill": {
     "duration": 15.153734,
     "end_time": "2025-01-24T13:31:20.390407",
     "exception": false,
     "start_time": "2025-01-24T13:31:05.236673",
     "status": "completed"
    },
    "tags": []
   },
   "outputs": [],
   "source": [
    "#Let's Make Prediction\n",
    "\n",
    "predictions = []\n",
    "\n",
    "with torch.no_grad():\n",
    "    model.eval()\n",
    "    for images, _ in submission_loader:\n",
    "        images = images.to(device)\n",
    "        outputs = model(images)\n",
    "        _, predicted = torch.max(outputs, 1)\n",
    "        predictions.extend(predicted.cpu().numpy())"
   ]
  },
  {
   "cell_type": "code",
   "execution_count": 18,
   "id": "048448b0",
   "metadata": {
    "execution": {
     "iopub.execute_input": "2025-01-24T13:31:20.431297Z",
     "iopub.status.busy": "2025-01-24T13:31:20.430939Z",
     "iopub.status.idle": "2025-01-24T13:31:20.490606Z",
     "shell.execute_reply": "2025-01-24T13:31:20.489627Z"
    },
    "papermill": {
     "duration": 0.081111,
     "end_time": "2025-01-24T13:31:20.492084",
     "exception": false,
     "start_time": "2025-01-24T13:31:20.410973",
     "status": "completed"
    },
    "tags": []
   },
   "outputs": [],
   "source": [
    "# Create the submission DataFrame\n",
    "\n",
    "submission_df = pd.DataFrame({\n",
    "    \"ImageId\": np.arange(1, len(predictions) + 1),\n",
    "    \"Label\": predictions\n",
    "})"
   ]
  },
  {
   "cell_type": "code",
   "execution_count": 19,
   "id": "31142367",
   "metadata": {
    "execution": {
     "iopub.execute_input": "2025-01-24T13:31:20.537044Z",
     "iopub.status.busy": "2025-01-24T13:31:20.536574Z",
     "iopub.status.idle": "2025-01-24T13:31:20.567250Z",
     "shell.execute_reply": "2025-01-24T13:31:20.566029Z"
    },
    "papermill": {
     "duration": 0.057418,
     "end_time": "2025-01-24T13:31:20.568848",
     "exception": false,
     "start_time": "2025-01-24T13:31:20.511430",
     "status": "completed"
    },
    "tags": []
   },
   "outputs": [
    {
     "name": "stdout",
     "output_type": "stream",
     "text": [
      "Submission file saved as submission.csv\n"
     ]
    }
   ],
   "source": [
    "# Save the submission DataFrame to CSV\n",
    "\n",
    "submission_df.to_csv(\"submission.csv\", index=False)\n",
    "print(\"Submission file saved as submission.csv\")"
   ]
  }
 ],
 "metadata": {
  "kaggle": {
   "accelerator": "none",
   "dataSources": [
    {
     "databundleVersionId": 861823,
     "sourceId": 3004,
     "sourceType": "competition"
    }
   ],
   "dockerImageVersionId": 30839,
   "isGpuEnabled": false,
   "isInternetEnabled": true,
   "language": "python",
   "sourceType": "notebook"
  },
  "kernelspec": {
   "display_name": "Python 3",
   "language": "python",
   "name": "python3"
  },
  "language_info": {
   "codemirror_mode": {
    "name": "ipython",
    "version": 3
   },
   "file_extension": ".py",
   "mimetype": "text/x-python",
   "name": "python",
   "nbconvert_exporter": "python",
   "pygments_lexer": "ipython3",
   "version": "3.10.12"
  },
  "papermill": {
   "default_parameters": {},
   "duration": 3430.486269,
   "end_time": "2025-01-24T13:31:23.412480",
   "environment_variables": {},
   "exception": null,
   "input_path": "__notebook__.ipynb",
   "output_path": "__notebook__.ipynb",
   "parameters": {},
   "start_time": "2025-01-24T12:34:12.926211",
   "version": "2.6.0"
  }
 },
 "nbformat": 4,
 "nbformat_minor": 5
}
